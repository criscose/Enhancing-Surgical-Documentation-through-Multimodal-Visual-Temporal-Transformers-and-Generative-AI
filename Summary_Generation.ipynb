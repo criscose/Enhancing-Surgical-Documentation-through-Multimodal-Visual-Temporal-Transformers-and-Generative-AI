{
  "nbformat": 4,
  "nbformat_minor": 0,
  "metadata": {
    "colab": {
      "provenance": [],
      "machine_shape": "hm"
    },
    "kernelspec": {
      "name": "python3",
      "display_name": "Python 3"
    },
    "language_info": {
      "name": "python"
    }
  },
  "cells": [
    {
      "cell_type": "markdown",
      "source": [
        "# Import"
      ],
      "metadata": {
        "id": "DtS_2-KMm13J"
      }
    },
    {
      "cell_type": "code",
      "execution_count": null,
      "metadata": {
        "id": "nZV-RGARmJj5",
        "colab": {
          "base_uri": "https://localhost:8080/"
        },
        "outputId": "f465512b-a9ed-472c-bae0-99300acb440f"
      },
      "outputs": [
        {
          "output_type": "stream",
          "name": "stdout",
          "text": [
            "Mounted at /content/drive\n"
          ]
        }
      ],
      "source": [
        "from google.colab import drive\n",
        "drive.mount('/content/drive')"
      ]
    },
    {
      "cell_type": "code",
      "source": [
        "import json\n",
        "import os\n",
        "import re\n",
        "import time\n",
        "import openai\n",
        "!pip install openai==0.28"
      ],
      "metadata": {
        "id": "-aX3PAJqpGkv"
      },
      "execution_count": null,
      "outputs": []
    },
    {
      "cell_type": "code",
      "source": [
        "# Update with your own save path\n",
        "save_dir = \"/content/drive/My Drive/Master Thesis/CholecT50\""
      ],
      "metadata": {
        "id": "NqkKeqrzpDaK"
      },
      "execution_count": null,
      "outputs": []
    },
    {
      "cell_type": "markdown",
      "source": [
        "# Functions"
      ],
      "metadata": {
        "id": "_9pzywUZpMkb"
      }
    },
    {
      "cell_type": "code",
      "source": [
        "json_path = f\"{save_dir}/Predictions/predicted_clips.json\"\n",
        "with open(json_path, \"r\") as f:\n",
        "    prediction_data = json.load(f)"
      ],
      "metadata": {
        "id": "YXfLwxuz3Iz2"
      },
      "execution_count": null,
      "outputs": []
    },
    {
      "cell_type": "code",
      "source": [
        "def get_clip_captions(video_folder, prediction_data):\n",
        "\n",
        "    clip_captions = []\n",
        "    video_predictions = prediction_data.get(video_folder, [])\n",
        "    sorted_predictions = sorted(video_predictions, key=lambda x: int(   re.sub(r\"\\s*\\(\\d+\\)$\", \"\", x.get(\"start_frame\", \"0\"))   )  )\n",
        "    for entry in sorted_predictions:\n",
        "        start_frame = entry.get(\"start_frame\", \"\")\n",
        "        if start_frame.isdigit() and int(start_frame) % 32 == 0:\n",
        "            predicted_caption = entry.get(\"predicted_caption\", \"Caption not found\")\n",
        "            clip_captions.append(predicted_caption)\n",
        "\n",
        "    return clip_captions"
      ],
      "metadata": {
        "id": "Q_0y5Lve2ox5"
      },
      "execution_count": null,
      "outputs": []
    },
    {
      "cell_type": "code",
      "source": [
        "def generate_report (clip_captions, key):\n",
        "\n",
        "    openai.api_key = key\n",
        "\n",
        "    input_text = \" \".join(clip_captions)\n",
        "\n",
        "    prompt = f\"\"\"\n",
        "    Generate a concise and textual surgery report from the following sequential clip captions of a video. Each clip describes a phase of the surgery, including the activity, tools used, and duration.\n",
        "    **Key Instructions:**\n",
        "    1. The clips form a continuous video. If multiple clips describe the same activity, combine their durations to reflect the total time spent on that activity.\n",
        "    2. Write the report in a narrative format, explaining each phase step-by-step in a flowing text.\n",
        "    Clip captions:\n",
        "    {input_text}\n",
        "    \"\"\"\n",
        "\n",
        "    response = openai.ChatCompletion.create(\n",
        "        model=\"gpt-4\",\n",
        "        messages=[\n",
        "            {\"role\": \"system\", \"content\": \"You are a medical assistant specialized in generating structured surgery reports.\"},\n",
        "            {\"role\": \"user\", \"content\": prompt}\n",
        "        ],\n",
        "        max_tokens=2000,\n",
        "        temperature=0.7,\n",
        "    )\n",
        "\n",
        "    report = response['choices'][0]['message']['content']\n",
        "    return report"
      ],
      "metadata": {
        "id": "c4PncJ0CGDNQ"
      },
      "execution_count": null,
      "outputs": []
    },
    {
      "cell_type": "markdown",
      "source": [
        "# Create reports"
      ],
      "metadata": {
        "id": "OEtZvo-npfD5"
      }
    },
    {
      "cell_type": "code",
      "source": [
        "# Complete your openAI key\n",
        "openai.api_key = \"\"\n"
      ],
      "metadata": {
        "id": "ruvopHWeo4qx"
      },
      "execution_count": null,
      "outputs": []
    },
    {
      "cell_type": "code",
      "source": [
        "\n",
        "report_path = f\"{save_dir}/Predictions/predicted_reports.json\"\n",
        "\n",
        "video_folders = sorted(prediction_data.keys())\n",
        "\n",
        "if os.path.exists(report_path):\n",
        "    with open(report_path, \"r\") as f:\n",
        "        reports = json.load(f)\n",
        "else:\n",
        "    reports = {}\n",
        "\n",
        "\n",
        "for video_folder in video_folders:\n",
        "    time.sleep(10)\n",
        "    clip_captions = get_clip_captions(video_folder, prediction_data)\n",
        "    report = generate_report(clip_captions, openai.api_key)\n",
        "    reports[video_folder] = report\n",
        "\n",
        "    print(f\"Generated report for: {video_folder}\")\n",
        "\n",
        "\n",
        "with open(report_path, \"w\") as f:\n",
        "    json.dump(reports, f, indent=4)\n",
        "\n",
        "\n"
      ],
      "metadata": {
        "colab": {
          "base_uri": "https://localhost:8080/"
        },
        "id": "C4ymig_W_2J1",
        "outputId": "7e8c2f4f-51d0-4013-fe24-682dd7ff771f"
      },
      "execution_count": null,
      "outputs": [
        {
          "output_type": "stream",
          "name": "stdout",
          "text": [
            "Generated report for: VID01\n",
            "Generated report for: VID02\n",
            "Generated report for: VID04\n",
            "Generated report for: VID05\n",
            "Generated report for: VID06\n",
            "Generated report for: VID08\n",
            "Generated report for: VID10\n",
            "Generated report for: VID103\n",
            "Generated report for: VID110\n",
            "Generated report for: VID111\n",
            "Generated report for: VID12\n",
            "Generated report for: VID13\n",
            "Generated report for: VID14\n",
            "Generated report for: VID15\n",
            "Generated report for: VID18\n",
            "Generated report for: VID22\n",
            "Generated report for: VID23\n",
            "Generated report for: VID25\n",
            "Generated report for: VID26\n",
            "Generated report for: VID27\n",
            "Generated report for: VID29\n",
            "Generated report for: VID31\n",
            "Generated report for: VID32\n",
            "Generated report for: VID35\n",
            "Generated report for: VID36\n",
            "Generated report for: VID40\n",
            "Generated report for: VID42\n",
            "Generated report for: VID43\n",
            "Generated report for: VID47\n",
            "Generated report for: VID48\n",
            "Generated report for: VID49\n",
            "Generated report for: VID50\n",
            "Generated report for: VID51\n",
            "Generated report for: VID52\n",
            "Generated report for: VID56\n",
            "Generated report for: VID57\n",
            "Generated report for: VID60\n",
            "Generated report for: VID62\n",
            "Generated report for: VID65\n",
            "Generated report for: VID66\n",
            "Generated report for: VID68\n",
            "Generated report for: VID70\n",
            "Generated report for: VID73\n",
            "Generated report for: VID74\n",
            "Generated report for: VID75\n",
            "Generated report for: VID78\n",
            "Generated report for: VID79\n",
            "Generated report for: VID80\n",
            "Generated report for: VID92\n",
            "Generated report for: VID96\n"
          ]
        }
      ]
    },
    {
      "cell_type": "markdown",
      "source": [
        "# Example"
      ],
      "metadata": {
        "id": "VCfK_WtLps5P"
      }
    },
    {
      "cell_type": "code",
      "source": [
        "reports_path = f\"{save_dir}/Predictions/predicted__reports.json\"\n",
        "with open(reports_path, \"r\") as f:\n",
        "     reports = json.load(f)\n",
        "\n",
        "\n",
        "video_folder = \"VID06\"\n",
        "report =  reports.get(video_folder, \"Report not found\")\n",
        "print(f\"Report for {video_folder}:\\n\\n{report}\")\n"
      ],
      "metadata": {
        "colab": {
          "base_uri": "https://localhost:8080/"
        },
        "id": "EihFx6riYqos",
        "outputId": "db77a25b-d123-4a55-a0fb-be1142a3b4bd"
      },
      "execution_count": null,
      "outputs": [
        {
          "output_type": "stream",
          "name": "stdout",
          "text": [
            "Report for VID06:\n",
            "\n",
            "The surgical procedure initiated with the preparation phase, which lasted for a total of 56 seconds. Initially, the grasper was engaged in retracting the gallbladder while the hook was used to dissect the gallbladder. Following this, the clipper retracted the omentum for 8 seconds.\n",
            "\n",
            "The next phase was the Calot triangle dissection, which took an extended duration due to the complexity involved. The hook was used to dissect the gallbladder while the grasper helped in retracting the gallbladder. The dissection of cystic artery and cystic duct was carried out multiple times during this phase. The grasper maintained a consistent presence, assisting in retracting the gallbladder throughout.\n",
            "\n",
            "The procedure moved on to the clipping and cutting phase which lasted for 117 seconds in total. The grasper was utilised to retract the gallbladder while the clipper was engaged in clipping the cystic artery and the cystic duct. The scissors were also used to cut the cystic duct and artery.\n",
            "\n",
            "Following this, the gallbladder dissection phase was carried out for a prolonged duration. The hook dissected the gallbladder, and the grasper retracted the gallbladder and the liver simultaneously. During this phase, the irrigator was also used to retract the liver while the grasper was present.\n",
            "\n",
            "The gallbladder packaging phase took 48 seconds. The grasper was engaged in packing the gallbladder, and the liver was retracted. The specimen bag was handled by the grasper during this phase.\n",
            "\n",
            "The cleaning and coagulation phase took place next. The grasper was used to retract the liver, the irrigator was employed to aspirate the fluid, and the bipolar was used to coagulate the omentum. There were instances where the omentum was aspirated and the abdominal wall cavity was irrigated.\n",
            "\n",
            "The final phase was the gallbladder extraction, which lasted for 79 seconds. The grasper was present throughout, the hook was used for gallbladder dissection, and the scissors were used for handling the specimen bag. The procedure concluded with the extraction of the gallbladder.\n"
          ]
        }
      ]
    }
  ]
}