{
  "cells": [
    {
      "cell_type": "markdown",
      "metadata": {
        "id": "6vdam6_iRnab"
      },
      "source": [
        "# Import"
      ]
    },
    {
      "cell_type": "code",
      "execution_count": null,
      "metadata": {
        "colab": {
          "base_uri": "https://localhost:8080/"
        },
        "id": "aXxLm0TtRMc0",
        "outputId": "d5013a4f-478b-49d1-fde0-2bad953bc8e9"
      },
      "outputs": [
        {
          "output_type": "stream",
          "name": "stdout",
          "text": [
            "Mounted at /content/drive\n"
          ]
        }
      ],
      "source": [
        "from google.colab import drive\n",
        "drive.mount('/content/drive')"
      ]
    },
    {
      "cell_type": "code",
      "execution_count": null,
      "metadata": {
        "id": "5Locq5C7opap"
      },
      "outputs": [],
      "source": [
        "# Standard Library Imports\n",
        "import os\n",
        "import re\n",
        "import sys\n",
        "import json\n",
        "import pickle\n",
        "import numpy as np\n",
        "import pandas as pd\n",
        "\n",
        "# Image Processing and Visualization Libraries\n",
        "from PIL import Image\n",
        "import matplotlib.pyplot as plt\n",
        "from torchvision import transforms\n",
        "from torchvision.transforms import functional as F\n",
        "\n",
        "# PyTorch and Deep Learning Libraries\n",
        "import torch\n",
        "import torch.nn as nn\n",
        "import torch.optim as optim\n",
        "from torch.utils.data import Dataset, DataLoader, random_split, TensorDataset\n",
        "\n",
        "# Transformers and Pretrained Models\n",
        "from transformers import DetrForObjectDetection, DetrImageProcessor\n",
        "\n",
        "# Scikit-learn Metrics\n",
        "from sklearn.metrics import accuracy_score, precision_score, recall_score, f1_score, hamming_loss\n",
        "\n",
        "# PyTorch Pretrained Models\n",
        "import torchvision.models as models\n",
        "\n",
        "\n"
      ]
    },
    {
      "cell_type": "code",
      "source": [
        "device = torch.device(\"cuda\" if torch.cuda.is_available() else \"cpu\")"
      ],
      "metadata": {
        "id": "r6MlJW3yxJQR"
      },
      "execution_count": null,
      "outputs": []
    },
    {
      "cell_type": "code",
      "execution_count": null,
      "metadata": {
        "id": "KcrQxTpnDqTT"
      },
      "outputs": [],
      "source": [
        "# Update with your own save path\n",
        "save_dir = \"/content/drive/My Drive/Master Thesis/CholecT50\"\n",
        "\n"
      ]
    },
    {
      "cell_type": "markdown",
      "source": [
        "# Load datasets and create dataloaders"
      ],
      "metadata": {
        "id": "hd6uAEWhdO3e"
      }
    },
    {
      "cell_type": "code",
      "source": [
        "dataset = []\n",
        "for i in range(5):\n",
        "  dataset.extend(torch.load(f\"{save_dir}/Datasets/frame_dataset{int(i*10)}_{int((i+1)*10)}.pt\"))\n",
        "  print(i)\n"
      ],
      "metadata": {
        "colab": {
          "base_uri": "https://localhost:8080/"
        },
        "id": "90uocxHRN-Kl",
        "outputId": "48306104-4e2c-4f64-a408-0f99237fb27c"
      },
      "execution_count": null,
      "outputs": [
        {
          "output_type": "stream",
          "name": "stderr",
          "text": [
            "<ipython-input-5-b04249c06fb6>:3: FutureWarning: You are using `torch.load` with `weights_only=False` (the current default value), which uses the default pickle module implicitly. It is possible to construct malicious pickle data which will execute arbitrary code during unpickling (See https://github.com/pytorch/pytorch/blob/main/SECURITY.md#untrusted-models for more details). In a future release, the default value for `weights_only` will be flipped to `True`. This limits the functions that could be executed during unpickling. Arbitrary objects will no longer be allowed to be loaded via this mode unless they are explicitly allowlisted by the user via `torch.serialization.add_safe_globals`. We recommend you start setting `weights_only=True` for any use case where you don't have full control of the loaded file. Please open an issue on GitHub for any issues related to this experimental feature.\n",
            "  dataset.extend(torch.load(f\"/content/drive/My Drive/Master Thesis/CholecT50/frame_dataset{int(i*10)}_{int((i+1)*10)}.pt\"))\n"
          ]
        },
        {
          "output_type": "stream",
          "name": "stdout",
          "text": [
            "0\n",
            "1\n",
            "2\n",
            "3\n",
            "4\n"
          ]
        }
      ]
    },
    {
      "cell_type": "code",
      "source": [
        "train_size = int(0.8 * len(dataset))\n",
        "val_size = int(0.1 * len(dataset))\n",
        "test_size = len(dataset) - train_size - val_size\n",
        "\n",
        "train_dataset, val_dataset, test_dataset = random_split(\n",
        "    dataset, [train_size, val_size, test_size],\n",
        "    generator=torch.Generator().manual_seed(42)\n",
        ")\n",
        "\n",
        "\n",
        "def collate_fn(batch):\n",
        "    max_objects = 10\n",
        "    return {\n",
        "        'frame': torch.stack([item['frame'] for item in batch]),\n",
        "        'frame_caption': [item['frame_caption'] for item in batch],\n",
        "        'object_labels': torch.stack([torch.tensor(item['object_labels']) for item in batch]),\n",
        "        'objects': [\n",
        "            item['objects'] + [''] * (max_objects - len(item['objects'])) if len(item['objects']) < max_objects\n",
        "            else item['objects'][:max_objects] for item in batch\n",
        "        ]\n",
        "    }\n",
        "\n",
        "\n",
        "batch_size = 8\n",
        "train_loader = DataLoader(train_dataset, batch_size=batch_size, shuffle=True, collate_fn=collate_fn)\n",
        "val_loader = DataLoader(val_dataset, batch_size=batch_size, collate_fn=collate_fn)\n",
        "test_loader = DataLoader(test_dataset, batch_size=batch_size, collate_fn=collate_fn)"
      ],
      "metadata": {
        "id": "pKuYbpDwO0mH"
      },
      "execution_count": null,
      "outputs": []
    },
    {
      "cell_type": "markdown",
      "metadata": {
        "id": "dWSQu4WVSMn1"
      },
      "source": [
        "# ViT"
      ]
    },
    {
      "cell_type": "code",
      "source": [
        "\n",
        "class ViTForMultiLabel(nn.Module):\n",
        "    def __init__(self, num_labels=21):\n",
        "        super().__init__()\n",
        "        self.vit = models.vit_b_16(pretrained=True)\n",
        "        in_features = self.vit.heads.head.in_features\n",
        "        self.vit.heads.head = nn.Linear(in_features, num_labels)\n",
        "\n",
        "    def forward(self, x):\n",
        "        return self.vit(x)\n",
        "\n",
        "# Compute class weights\n",
        "label_counts = torch.tensor([69066, 6666, 52791, 2134, 3429, 4957, 1, 64226, 4645, 11628, 5006, 295, 411, 3091, 831, 14186, 228, 6396, 1102, 669, 4856], dtype=torch.float)\n",
        "weights = 1.0 / (label_counts + 1e-6)\n",
        "weights /= weights.sum()\n",
        "\n",
        "# Initialize model\n",
        "model = ViTForMultiLabel().to(device)\n",
        "criterion = nn.BCEWithLogitsLoss(weight=weights.to(device))\n",
        "optimizer = optim.Adam(model.parameters(), lr=1e-4)"
      ],
      "metadata": {
        "id": "xcC9axBYWboQ"
      },
      "execution_count": null,
      "outputs": []
    },
    {
      "cell_type": "code",
      "source": [
        "def run_epoch(model, loader, optimizer=None, train=True):\n",
        "    mode = \"Training\" if train else \"Validation\"\n",
        "    model.train() if train else model.eval()\n",
        "    total_loss = 0\n",
        "    total_batches = len(loader)\n",
        "\n",
        "    for batch_idx, batch in enumerate(loader):\n",
        "        frame = batch['frame'].to(device)\n",
        "        labels = batch['object_labels'].to(device)\n",
        "\n",
        "        if train:\n",
        "            optimizer.zero_grad()\n",
        "            outputs = model(frame)\n",
        "            loss = criterion(outputs, labels)\n",
        "            loss.backward()\n",
        "            torch.nn.utils.clip_grad_norm_(model.parameters(), 1.0)\n",
        "            optimizer.step()\n",
        "        else:\n",
        "            with torch.no_grad():\n",
        "                outputs = model(frame)\n",
        "                loss = criterion(outputs, labels)\n",
        "\n",
        "        total_loss += loss.item()\n",
        "\n",
        "        # Print progress bar\n",
        "        progress = (batch_idx + 1) / total_batches\n",
        "        bar_length = 20\n",
        "        filled_length = int(bar_length * progress)\n",
        "        bar = \"=\" * filled_length + \" \" * (bar_length - filled_length)\n",
        "        percentage = int(progress * 100)\n",
        "        sys.stdout.write(f\"\\r[{bar}] {percentage}% - Batch {batch_idx+1}/{total_batches} - Loss: {loss.item():.4f} - Avg {mode} Loss: {total_loss / (batch_idx + 1):.4f}\")\n",
        "        sys.stdout.flush()\n",
        "\n",
        "    print()\n",
        "    return total_loss / total_batches\n",
        "\n",
        "\n",
        "optimizer = optim.AdamW(model.parameters(), lr=5e-5)\n",
        "criterion = nn.BCEWithLogitsLoss()\n",
        "\n",
        "# Train model\n",
        "num_epochs = 5\n",
        "for epoch in range(num_epochs):\n",
        "    print(f\"Epoch {epoch+1}/{num_epochs}: \")\n",
        "    train_loss = run_epoch(model, train_loader, optimizer, train=True)\n",
        "    val_loss = run_epoch(model, val_loader, train=False)\n",
        "    torch.save(model.state_dict(), f\"{save_dir}/Models/model_OD.pth\")\n"
      ],
      "metadata": {
        "colab": {
          "base_uri": "https://localhost:8080/"
        },
        "id": "GV6ITW2BYllZ",
        "outputId": "3c4edda5-7189-48c0-c852-f57313f4b7ac"
      },
      "execution_count": null,
      "outputs": [
        {
          "output_type": "stream",
          "name": "stdout",
          "text": [
            "Epoch 1/5: \n",
            "[====================] 100% - Batch 8983/8983 - Loss: 0.0505 - Avg Training Loss: 0.0840\n",
            "[====================] 100% - Batch 1123/1123 - Loss: 0.0793 - Avg Validation Loss: 0.0538\n",
            "Epoch 2/5: \n",
            "[====================] 100% - Batch 8983/8983 - Loss: 0.0260 - Avg Training Loss: 0.0424\n",
            "[====================] 100% - Batch 1123/1123 - Loss: 0.0295 - Avg Validation Loss: 0.0458\n",
            "Epoch 3/5: \n",
            "[====================] 100% - Batch 8983/8983 - Loss: 0.0056 - Avg Training Loss: 0.0289\n",
            "[====================] 100% - Batch 1123/1123 - Loss: 0.0530 - Avg Validation Loss: 0.0423\n",
            "Epoch 4/5: \n",
            "[====================] 100% - Batch 8983/8983 - Loss: 0.0069 - Avg Training Loss: 0.0214\n",
            "[====================] 100% - Batch 1123/1123 - Loss: 0.0230 - Avg Validation Loss: 0.0394\n",
            "Epoch 5/5: \n",
            "[====================] 100% - Batch 8983/8983 - Loss: 0.0496 - Avg Training Loss: 0.0165\n",
            "[====================] 100% - Batch 1123/1123 - Loss: 0.0269 - Avg Validation Loss: 0.0425\n"
          ]
        }
      ]
    },
    {
      "cell_type": "markdown",
      "source": [
        "# Test"
      ],
      "metadata": {
        "id": "_dxzTheoZcVn"
      }
    },
    {
      "cell_type": "code",
      "source": [
        "preds_list  =[]\n",
        "probs_list = []\n",
        "labels_list = []\n",
        "with torch.no_grad():\n",
        "    for batch in test_loader:\n",
        "        frames = batch['frame'].to(device)\n",
        "        labels = batch['object_labels'].cpu().numpy()\n",
        "        outputs = model(frames)\n",
        "        probs = torch.sigmoid(outputs).cpu().numpy()\n",
        "        preds = (probs >= 0.5).astype(int)\n",
        "        preds_list.append(preds)\n",
        "        probs_list.append(probs)\n",
        "        labels_list.append(labels)\n",
        "\n",
        "\n",
        "all_preds = np.array(preds_list)\n",
        "all_probs = np.array(probs_list)\n",
        "all_labels = np.array(labels_list)\n",
        "all_preds = all_preds.flatten()\n",
        "all_probs = all_probs.flatten()\n",
        "all_labels = all_labels.flatten()\n",
        "all_preds = all_preds.reshape(-1, 21)\n",
        "all_labels = all_labels.reshape(-1, 21)\n",
        "\n",
        "\n",
        "\n",
        "overall_precision = precision_score(all_labels, all_preds, average='micro')\n",
        "overall_recall = recall_score(all_labels, all_preds, average='micro')\n",
        "overall_f1 = f1_score(all_labels, all_preds, average='micro')\n",
        "overall_accuracy = accuracy_score(all_labels, all_preds)\n",
        "print(\"Overall Statistics:\")\n",
        "print(f\"Precision: {overall_precision:.4f}\")\n",
        "print(f\"Recall: {overall_recall:.4f}\")\n",
        "print(f\"F1 Score: {overall_f1:.4f}\")\n",
        "print(f\"Accuracy: {overall_accuracy:.4f}\")\n",
        "print(\"\\n\")\n",
        "\n",
        "\n",
        "label_precision = precision_score(all_labels, all_preds, average=None)\n",
        "label_recall = recall_score(all_labels, all_preds, average=None)\n",
        "label_f1 = f1_score(all_labels, all_preds, average=None)\n",
        "print(\"Label-wise Statistics:\")\n",
        "print(f\"{'Label Name':<20} {'Precision':<10} {'Recall':<10} {'F1 Score':<10}\")\n",
        "for idx, (precision, recall, f1) in enumerate(zip(label_precision, label_recall, label_f1)):\n",
        "    label_name = mapping.get(idx, \"unknown\")\n",
        "    print(f\"{label_name:<20} {precision:<10.4f} {recall:<10.4f} {f1:<10.4f}\")"
      ],
      "metadata": {
        "colab": {
          "base_uri": "https://localhost:8080/"
        },
        "id": "a96_HukE0dNq",
        "outputId": "d1d0306a-d478-43c1-b477-0ddb076815bc"
      },
      "execution_count": null,
      "outputs": [
        {
          "output_type": "stream",
          "name": "stdout",
          "text": [
            "Overall Statistics:\n",
            "Precision: 0.9617\n",
            "Recall: 0.9524\n",
            "F1 Score: 0.9570\n",
            "Accuracy: 0.8311\n",
            "\n",
            "\n",
            "Label-wise Statistics:\n",
            "Label Name           Precision  Recall     F1 Score  \n",
            "grasper              0.9839     0.9673     0.9755    \n",
            "bipolar              0.9737     0.8998     0.9353    \n",
            "hook                 0.9627     0.9893     0.9758    \n",
            "scissors             0.9005     0.8873     0.8938    \n",
            "clipper              0.9329     0.8870     0.9094    \n",
            "irrigator            0.9476     0.9163     0.9317    \n",
            "specimen_bag         0.0000     0.0000     0.0000    \n",
            "gallbladder          0.9758     0.9706     0.9732    \n",
            "cystic_plate         0.8643     0.9370     0.8992    \n",
            "cystic_duct          0.9066     0.8971     0.9018    \n",
            "cystic_artery        0.9248     0.8120     0.8647    \n",
            "cystic_pedicle       0.9474     0.6667     0.7826    \n",
            "blood_vessel         0.9677     0.7692     0.8571    \n",
            "fluid                0.8638     0.8142     0.8383    \n",
            "abdominal_wall_cavity 0.6667     0.7105     0.6879    \n",
            "liver                0.9488     0.9273     0.9380    \n",
            "adhesion             0.9500     0.8636     0.9048    \n",
            "omentum              0.9762     0.9167     0.9455    \n",
            "peritoneum           0.9333     0.8829     0.9074    \n",
            "gut                  0.9783     0.6338     0.7692    \n",
            "specimen_bag         0.8836     0.9000     0.8917    \n"
          ]
        },
        {
          "output_type": "stream",
          "name": "stderr",
          "text": [
            "/usr/local/lib/python3.11/dist-packages/sklearn/metrics/_classification.py:1565: UndefinedMetricWarning: Precision is ill-defined and being set to 0.0 in labels with no predicted samples. Use `zero_division` parameter to control this behavior.\n",
            "  _warn_prf(average, modifier, f\"{metric.capitalize()} is\", len(result))\n",
            "/usr/local/lib/python3.11/dist-packages/sklearn/metrics/_classification.py:1565: UndefinedMetricWarning: Recall is ill-defined and being set to 0.0 in labels with no true samples. Use `zero_division` parameter to control this behavior.\n",
            "  _warn_prf(average, modifier, f\"{metric.capitalize()} is\", len(result))\n",
            "/usr/local/lib/python3.11/dist-packages/sklearn/metrics/_classification.py:1565: UndefinedMetricWarning: F-score is ill-defined and being set to 0.0 in labels with no true nor predicted samples. Use `zero_division` parameter to control this behavior.\n",
            "  _warn_prf(average, modifier, f\"{metric.capitalize()} is\", len(result))\n"
          ]
        }
      ]
    },
    {
      "cell_type": "code",
      "source": [
        "class ViTForMultiLabel(nn.Module):\n",
        "    def __init__(self, num_labels=21):\n",
        "        super().__init__()\n",
        "        self.vit = models.vit_b_16(pretrained=True)\n",
        "        in_features = self.vit.heads.head.in_features\n",
        "        self.vit.heads.head = nn.Linear(in_features, num_labels)\n",
        "\n",
        "    def forward(self, x):\n",
        "        return self.vit(x)\n",
        "\n",
        "class TemperatureScaling(nn.Module):\n",
        "    def __init__(self):\n",
        "        super().__init__()\n",
        "        self.temperature = nn.Parameter(torch.ones(1) * 1.5)\n",
        "\n",
        "    def forward(self, logits):\n",
        "        return logits / self.temperature\n",
        "\n",
        "def calibrate_temperature(model, val_loader, device):\n",
        "    model.eval()\n",
        "    temperature_scaling = TemperatureScaling().to(device)\n",
        "    criterion = nn.CrossEntropyLoss()\n",
        "    optimizer = optim.LBFGS([temperature_scaling.temperature], lr=0.01, max_iter=50)\n",
        "    logits_list, labels_list = [], []\n",
        "\n",
        "    with torch.no_grad():\n",
        "        for batch in val_loader:\n",
        "            inputs, labels = batch['frame'].to(device), batch['object_labels'].to(device)\n",
        "            logits = model(inputs)\n",
        "            logits_list.append(logits)\n",
        "            labels_list.append(labels)\n",
        "\n",
        "    logits = torch.cat(logits_list)\n",
        "    labels = torch.cat(labels_list)\n",
        "    def closure():\n",
        "        optimizer.zero_grad()\n",
        "        loss = criterion(temperature_scaling(logits), labels)\n",
        "        loss.backward()\n",
        "        return loss\n",
        "\n",
        "    optimizer.step(closure)\n",
        "    print(f\"Optimal Temperature: {temperature_scaling.temperature.item():.4f}\")\n",
        "    return temperature_scaling\n",
        "\n",
        "def predict_with_temperature(model, temperature_scaling, test_loader, device):\n",
        "    model.eval()\n",
        "    temperature_scaling.eval()\n",
        "    probs_list, labels_list = [], []\n",
        "    with torch.no_grad():\n",
        "        for batch in test_loader:\n",
        "            inputs, labels = batch['frame'].to(device), batch['object_labels'].to(device)\n",
        "            logits = model(inputs)\n",
        "            scaled_logits = temperature_scaling(logits)\n",
        "            probs = torch.sigmoid(scaled_logits)\n",
        "            probs_list.append(probs.cpu())\n",
        "            labels_list.append(labels.cpu())\n",
        "\n",
        "    return torch.cat(probs_list), torch.cat(labels_list)\n",
        "\n",
        "# Compute Expected Calibration Error\n",
        "def compute_ece(probs, labels, n_bins=15):\n",
        "    bins = torch.linspace(0, 1, n_bins + 1)\n",
        "    bin_lowers, bin_uppers = bins[:-1], bins[1:]\n",
        "    ece = torch.zeros(1)\n",
        "    bin_accs, bin_confs, bin_sizes = [], [], []\n",
        "\n",
        "    for bin_lower, bin_upper in zip(bin_lowers, bin_uppers):\n",
        "        in_bin = (probs > bin_lower) & (probs <= bin_upper)\n",
        "        prop_in_bin = in_bin.float().mean()\n",
        "        if prop_in_bin.item() > 0:\n",
        "            acc_in_bin = labels[in_bin].float().mean()\n",
        "            conf_in_bin = probs[in_bin].mean()\n",
        "            ece += torch.abs(conf_in_bin - acc_in_bin) * prop_in_bin\n",
        "            bin_accs.append(acc_in_bin.item())\n",
        "            bin_confs.append(conf_in_bin.item())\n",
        "            bin_sizes.append(prop_in_bin.item())\n",
        "\n",
        "    return ece.item(), bin_accs, bin_confs, bin_sizes\n",
        "\n",
        "# Plot ECE\n",
        "def plot_ece_separate(bin_accs_before, bin_confs_before, bin_accs_after, bin_confs_after):\n",
        "    bin_edges = np.linspace(0, 1, len(bin_accs_before) + 1)\n",
        "    bin_centers = (bin_edges[:-1] + bin_edges[1:]) / 2\n",
        "    width = 0.05\n",
        "\n",
        "    fig, axes = plt.subplots(1, 2, figsize=(12, 5))\n",
        "\n",
        "    # Plot Before Calibration\n",
        "    axes[0].bar(bin_centers - width/2, bin_accs_before, width=width, color='red', alpha=0.6, label=\"Accuracy (Before)\")\n",
        "    axes[0].bar(bin_centers + width/2, bin_confs_before, width=width, color='blue', alpha=0.6, label=\"Confidence (Before)\")\n",
        "    axes[0].plot([0, 1], [0, 1], '--', color=\"red\", label=\"Perfect Calibration\")\n",
        "    axes[0].set_xlabel(\"Confidence\")\n",
        "    axes[0].set_ylabel(\"Accuracy\")\n",
        "    axes[0].set_title(\"ECE Before Calibration\")\n",
        "    axes[0].legend()\n",
        "    axes[0].grid()\n",
        "\n",
        "    # Plot After Calibration\n",
        "    axes[1].bar(bin_centers - width/2, bin_accs_after, width=width, color='green', alpha=0.6, label=\"Accuracy (After)\")\n",
        "    axes[1].bar(bin_centers + width/2, bin_confs_after, width=width, color='purple', alpha=0.6, label=\"Confidence (After)\")\n",
        "    axes[1].plot([0, 1], [0, 1], '--', color=\"red\", label=\"Perfect Calibration\")\n",
        "    axes[1].set_xlabel(\"Confidence\")\n",
        "    axes[1].set_ylabel(\"Accuracy\")\n",
        "    axes[1].set_title(\"ECE After Calibration\")\n",
        "    axes[1].legend()\n",
        "    axes[1].grid()\n",
        "\n",
        "\n",
        "\n",
        "    plt.show()\n",
        "\n",
        "# Initialize\n",
        "device = torch.device(\"cuda\" if torch.cuda.is_available() else \"cpu\")\n",
        "model = ViTForMultiLabel().to(device)\n",
        "model.load_state_dict(torch.load(f\"{save_dir}/Models/model_OD.pth\"))\n",
        "\n",
        "# Compute ECE Before Calibration\n",
        "probs_before, labels = predict_with_temperature(model, nn.Identity(), test_loader, device)\n",
        "ece_before, bin_accs_before, bin_confs_before, _ = compute_ece(probs_before, labels)\n",
        "print(f\"ECE before calibration: {ece_before:.4f}\")\n",
        "\n",
        "# Train and Apply Temperature Scaling\n",
        "temperature_scaling = calibrate_temperature(model, val_loader, device)\n",
        "probs_after, labels = predict_with_temperature(model, temperature_scaling, test_loader, device)\n",
        "ece_after, bin_accs_after, bin_confs_after, _ = compute_ece(probs_after, labels)\n",
        "print(f\"ECE after calibration: {ece_after:.4f}\")\n",
        "\n",
        "plot_ece_separate(bin_accs_before, bin_confs_before, bin_accs_after, bin_confs_after)\n"
      ],
      "metadata": {
        "colab": {
          "base_uri": "https://localhost:8080/"
        },
        "id": "nxf67RqXaLJ_",
        "outputId": "1778d701-9df7-4214-bfd2-73717dbb5d12"
      },
      "execution_count": null,
      "outputs": [
        {
          "output_type": "stream",
          "name": "stderr",
          "text": [
            "<ipython-input-13-18de6fe1fef6>:120: FutureWarning: You are using `torch.load` with `weights_only=False` (the current default value), which uses the default pickle module implicitly. It is possible to construct malicious pickle data which will execute arbitrary code during unpickling (See https://github.com/pytorch/pytorch/blob/main/SECURITY.md#untrusted-models for more details). In a future release, the default value for `weights_only` will be flipped to `True`. This limits the functions that could be executed during unpickling. Arbitrary objects will no longer be allowed to be loaded via this mode unless they are explicitly allowlisted by the user via `torch.serialization.add_safe_globals`. We recommend you start setting `weights_only=True` for any use case where you don't have full control of the loaded file. Please open an issue on GitHub for any issues related to this experimental feature.\n",
            "  model.load_state_dict(torch.load(\"/content/drive/My Drive/Master Thesis/CholecT50/model_OD2.pth\"))\n"
          ]
        },
        {
          "output_type": "stream",
          "name": "stdout",
          "text": [
            "ECE before calibration: 0.0075\n",
            "Optimal Temperature: 1.8584\n",
            "ECE after calibration: 0.0028\n"
          ]
        },
        {
          "output_type": "display_data",
          "data": {
            "text/plain": [
              "<Figure size 1200x500 with 2 Axes>"
            ],
            "image/png": "[encoded data removed]"
          },
          "metadata": {}
        }
      ]
    },
    {
      "cell_type": "markdown",
      "source": [
        "# Store Predicted Objects"
      ],
      "metadata": {
        "id": "yUHZBtCy43zy"
      }
    },
    {
      "cell_type": "code",
      "source": [
        "mapping = {0: \"grasper\", 1: \"bipolar\", 2: \"hook\", 3: \"scissors\", 4: \"clipper\", 5: \"irrigator\", 6: \"specimen_bag\", 7: \"gallbladder\",\n",
        "           8: \"cystic_plate\", 9: \"cystic_duct\", 10: \"cystic_artery\", 11: \"cystic_pedicle\", 12: \"blood_vessel\", 13: \"fluid\",\n",
        "           14: \"abdominal_wall_cavity\", 15: \"liver\", 16: \"adhesion\", 17: \"omentum\", 18: \"peritoneum\", 19: \"gut\", 20: \"specimen_bag\", 21: \"null_target\"}"
      ],
      "metadata": {
        "id": "yefrMsf75RSB"
      },
      "execution_count": null,
      "outputs": []
    },
    {
      "cell_type": "code",
      "source": [
        "batch_size = 1\n",
        "loader = DataLoader(test_dataset, batch_size=batch_size, collate_fn=collate_fn)"
      ],
      "metadata": {
        "id": "4LV-oJHLLswA"
      },
      "execution_count": null,
      "outputs": []
    },
    {
      "cell_type": "code",
      "source": [
        "ObjectDetector = ViTForMultiLabel().to(device)\n",
        "ObjectDetector.load_state_dict(torch.load(f\"{save_dir}/Models/model_OD.pth\"))"
      ],
      "metadata": {
        "id": "v5IUHTxOavcB"
      },
      "execution_count": null,
      "outputs": []
    },
    {
      "cell_type": "code",
      "source": [
        "def predict_dataset(ObjectDetector, loader, device):\n",
        "    prediction_dataset = {}\n",
        "    total_batches = len(loader)\n",
        "\n",
        "    for batch_idx, batch in enumerate(loader):\n",
        "        with torch.no_grad():\n",
        "            frame = batch['frame'].to(device)\n",
        "            objects = batch['objects']\n",
        "            frame_caption = batch['frame_caption']\n",
        "            video_folder = batch['video']\n",
        "            frame_name = batch['frame_number']\n",
        "\n",
        "            # Get objects\n",
        "            output = ObjectDetector(frame)\n",
        "            probs = torch.sigmoid(output)\n",
        "            predicted_objects = [[mapping[i] for i in range(len(prob)) if prob[i] >= 0.5] for prob in probs]\n",
        "            predicted_objects = [obj_list + [\"\"] * (10 - len(obj_list)) if len(obj_list) < 10 else obj_list[:10] for obj_list in objects]\n",
        "\n",
        "\n",
        "            # Store\n",
        "            if video_folder[0] not in prediction_dataset:\n",
        "                prediction_dataset[video_folder[0]] = {}\n",
        "            prediction_dataset[video_folder[0]][frame_name[0]] = {\n",
        "                \"predicted_objects\": objects[0],\n",
        "            }\n",
        "\n",
        "            # Print progress bar\n",
        "            progress = (batch_idx + 1) / total_batches\n",
        "            bar_length = 20\n",
        "            filled_length = int(bar_length * progress)\n",
        "            bar = \"=\" * filled_length + \" \" * (bar_length - filled_length)\n",
        "            percentage = int(progress * 100)\n",
        "            sys.stdout.write(f\"\\r[{bar}] {percentage}% - Batch {batch_idx+1}/{total_batches}\")\n",
        "            sys.stdout.flush()\n",
        "\n",
        "    return prediction_dataset\n",
        "\n",
        "prediction_dataset = predict_dataset(ObjectDetector, loader, device)\n",
        "\n",
        "# Save to JSON file\n",
        "save_path = f\"{save_dir}/Predictions/predicted_objects.json\"\n",
        "with open(save_path, \"w\") as f:\n",
        "    json.dump(prediction_dataset, f, indent=4)"
      ],
      "metadata": {
        "colab": {
          "base_uri": "https://localhost:8080/"
        },
        "id": "JV97XdPLOkqk",
        "outputId": "658b1db4-fbac-4b17-bc8a-a1d8109c79f6"
      },
      "execution_count": null,
      "outputs": [
        {
          "output_type": "stream",
          "name": "stdout",
          "text": [
            "[====================] 100% - Batch 89827/89827"
          ]
        }
      ]
    }
  ],
  "metadata": {
    "colab": {
      "machine_shape": "hm",
      "provenance": [],
      "gpuType": "A100"
    },
    "kernelspec": {
      "display_name": "Python 3",
      "name": "python3"
    },
    "language_info": {
      "name": "python"
    },
    "accelerator": "GPU"
  },
  "nbformat": 4,
  "nbformat_minor": 0
}